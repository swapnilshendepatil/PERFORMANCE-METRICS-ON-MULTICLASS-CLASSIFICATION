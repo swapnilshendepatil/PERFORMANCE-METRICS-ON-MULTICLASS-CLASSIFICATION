{
 "cells": [
  {
   "cell_type": "code",
   "execution_count": 1,
   "metadata": {},
   "outputs": [
    {
     "name": "stderr",
     "output_type": "stream",
     "text": [
      "C:\\Users\\Lenovo\\Anaconda3\\lib\\importlib\\_bootstrap.py:219: RuntimeWarning: numpy.ufunc size changed, may indicate binary incompatibility. Expected 192 from C header, got 216 from PyObject\n",
      "  return f(*args, **kwds)\n",
      "C:\\Users\\Lenovo\\Anaconda3\\lib\\importlib\\_bootstrap.py:219: RuntimeWarning: numpy.ufunc size changed, may indicate binary incompatibility. Expected 192 from C header, got 216 from PyObject\n",
      "  return f(*args, **kwds)\n"
     ]
    }
   ],
   "source": [
    "from sklearn import metrics"
   ]
  },
  {
   "cell_type": "code",
   "execution_count": 2,
   "metadata": {},
   "outputs": [],
   "source": [
    "c='cat'\n",
    "d='dog'\n",
    "f='fox'"
   ]
  },
  {
   "cell_type": "markdown",
   "metadata": {},
   "source": [
    "### the precision for the cat class is the number of correctly predicated cat out of all predicted cat\n",
    "\n",
    "\n",
    "### the recall for cat number of correctly predicted cat photos out of the number of actual cat"
   ]
  },
  {
   "cell_type": "code",
   "execution_count": 3,
   "metadata": {},
   "outputs": [],
   "source": [
    "#TRUE VALUES\n",
    "y_true=[c,c,c,c,c,c, f,f,f,f,f,f,f,f,f,f, d,d,d,d,d,d,d,d,d,d,]\n",
    "\n",
    "#PREDICATED VALUES\n",
    "y_pred=[c,c,c,c,d,f, c,c,c,c,c,c,d,d,f,f, c,c,c,d,d,d,d,d,d,d]"
   ]
  },
  {
   "cell_type": "code",
   "execution_count": 4,
   "metadata": {},
   "outputs": [
    {
     "name": "stdout",
     "output_type": "stream",
     "text": [
      "[[4 1 1]\n",
      " [3 7 0]\n",
      " [6 2 2]]\n"
     ]
    }
   ],
   "source": [
    "#PRINT THE CONFUSION METRICS\n",
    "print(metrics.confusion_matrix(y_true,y_pred))"
   ]
  },
  {
   "cell_type": "code",
   "execution_count": 5,
   "metadata": {},
   "outputs": [
    {
     "name": "stdout",
     "output_type": "stream",
     "text": [
      "              precision    recall  f1-score   support\n",
      "\n",
      "         cat       0.31      0.67      0.42         6\n",
      "         dog       0.70      0.70      0.70        10\n",
      "         fox       0.67      0.20      0.31        10\n",
      "\n",
      "    accuracy                           0.50        26\n",
      "   macro avg       0.56      0.52      0.48        26\n",
      "weighted avg       0.60      0.50      0.48        26\n",
      "\n"
     ]
    }
   ],
   "source": [
    "#PRINT PRECISION AND RECALL\n",
    "print(metrics.classification_report(y_true,y_pred))"
   ]
  },
  {
   "cell_type": "code",
   "execution_count": null,
   "metadata": {},
   "outputs": [],
   "source": []
  }
 ],
 "metadata": {
  "kernelspec": {
   "display_name": "Python 3",
   "language": "python",
   "name": "python3"
  },
  "language_info": {
   "codemirror_mode": {
    "name": "ipython",
    "version": 3
   },
   "file_extension": ".py",
   "mimetype": "text/x-python",
   "name": "python",
   "nbconvert_exporter": "python",
   "pygments_lexer": "ipython3",
   "version": "3.7.4"
  }
 },
 "nbformat": 4,
 "nbformat_minor": 2
}
